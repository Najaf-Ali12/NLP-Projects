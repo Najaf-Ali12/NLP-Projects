{
 "cells": [
  {
   "cell_type": "code",
   "execution_count": null,
   "id": "7417e8be",
   "metadata": {},
   "outputs": [],
   "source": [
    "import pandas as pd\n",
    "import numpy as np\n",
    "import matplotlib.pyplot as plt"
   ]
  },
  {
   "cell_type": "markdown",
   "id": "3c808c38",
   "metadata": {},
   "source": [
    "# Loading data"
   ]
  },
  {
   "cell_type": "code",
   "execution_count": null,
   "id": "0e88601c",
   "metadata": {},
   "outputs": [],
   "source": [
    "data=pd.read_csv(\"Resume\\Resume.csv\")\n",
    "data.head()"
   ]
  },
  {
   "cell_type": "markdown",
   "id": "d6b77cf7",
   "metadata": {},
   "source": [
    "# Exploratory Data Analysis\n",
    "There are 2484 rows and 4 columns in this dataset\n",
    "\n",
    "Most of the cvs in dataset belongs to IT and Business Development\n",
    "\n",
    "BPO has less cvs"
   ]
  },
  {
   "cell_type": "code",
   "execution_count": null,
   "id": "03933b4b",
   "metadata": {},
   "outputs": [],
   "source": [
    "data['Resume_str'][0]"
   ]
  },
  {
   "cell_type": "code",
   "execution_count": null,
   "id": "8ef0b0f3",
   "metadata": {},
   "outputs": [],
   "source": [
    "print(data.shape)\n",
    "print(data.columns)"
   ]
  },
  {
   "cell_type": "code",
   "execution_count": null,
   "id": "1542c883",
   "metadata": {},
   "outputs": [],
   "source": [
    "# Removing the id and Resume_html columns as they are not needed in our project\n",
    "data=data[['Category','Resume_str']]\n",
    "data.head()"
   ]
  },
  {
   "cell_type": "code",
   "execution_count": null,
   "id": "cd2d7f67",
   "metadata": {},
   "outputs": [],
   "source": [
    "# Viewing category column\n",
    "data['Category'].value_counts()"
   ]
  },
  {
   "cell_type": "code",
   "execution_count": null,
   "id": "1681258c",
   "metadata": {},
   "outputs": [],
   "source": [
    "# Visualizing category column\n",
    "## separating category and their repetitions\n",
    "categories=[]\n",
    "repetitions=[]\n",
    "category_dict=dict(data['Category'].value_counts())\n",
    "for category,rep in category_dict.items():\n",
    "    categories.append(category)\n",
    "    repetitions.append(rep)\n",
    "\n",
    "\n",
    "print(len(categories))\n",
    "print(len(repetitions))\n"
   ]
  },
  {
   "cell_type": "code",
   "execution_count": null,
   "id": "c5e33c94",
   "metadata": {},
   "outputs": [],
   "source": [
    "# Creating pie chart \n",
    "plt.figure(figsize=(26.7,10.2))\n",
    "plt.pie(repetitions,labels=categories,autopct=\"%.2f\")\n",
    "plt.show()"
   ]
  },
  {
   "cell_type": "code",
   "execution_count": null,
   "id": "5645c0a6",
   "metadata": {},
   "outputs": [],
   "source": [
    "# Viewing the resume column\n",
    "data['Resume_str'].head(10)"
   ]
  },
  {
   "cell_type": "markdown",
   "id": "9a75937b",
   "metadata": {},
   "source": [
    "# Preprocessing"
   ]
  },
  {
   "cell_type": "code",
   "execution_count": null,
   "id": "252d71e8",
   "metadata": {},
   "outputs": [],
   "source": [
    "# Encoding Category column=y\n",
    "from sklearn.preprocessing import LabelEncoder\n",
    "\n",
    "le=LabelEncoder()\n",
    "\n",
    "data['Category']=le.fit_transform(data['Category'])\n",
    "\n",
    "data['Category'].head()\n",
    "\n"
   ]
  },
  {
   "cell_type": "code",
   "execution_count": null,
   "id": "438fdfd4",
   "metadata": {},
   "outputs": [],
   "source": [
    "X=data['Resume_str']\n",
    "y=data['Category']"
   ]
  },
  {
   "cell_type": "code",
   "execution_count": null,
   "id": "33fdafa7",
   "metadata": {},
   "outputs": [],
   "source": [
    "from nltk.stem import WordNetLemmatizer\n",
    "from nltk.corpus import stopwords\n",
    "import re\n",
    "lemmatizer=WordNetLemmatizer()\n",
    "corpus=[]\n",
    "for i in range(0,len(X)):\n",
    "    words=re.sub(\"[^a-zA-Z]\",\" \",X[i])\n",
    "    words=words.lower()\n",
    "    words=words.split()\n",
    "    words=[lemmatizer.lemmatize(word) for word in words if word not in stopwords.words(\"english\")]\n",
    "    words=\" \".join(words)\n",
    "    corpus.append(words)\n",
    "    print(corpus) "
   ]
  },
  {
   "cell_type": "code",
   "execution_count": null,
   "id": "eef6c193",
   "metadata": {},
   "outputs": [],
   "source": []
  }
 ],
 "metadata": {
  "kernelspec": {
   "display_name": "Python 3",
   "language": "python",
   "name": "python3"
  },
  "language_info": {
   "codemirror_mode": {
    "name": "ipython",
    "version": 3
   },
   "file_extension": ".py",
   "mimetype": "text/x-python",
   "name": "python",
   "nbconvert_exporter": "python",
   "pygments_lexer": "ipython3",
   "version": "3.12.3"
  }
 },
 "nbformat": 4,
 "nbformat_minor": 5
}
